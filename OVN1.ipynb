{
 "cells": [
  {
   "cell_type": "code",
   "execution_count": 27,
   "id": "c4e12343",
   "metadata": {},
   "outputs": [
    {
     "name": "stdout",
     "output_type": "stream",
     "text": [
      "True\n"
     ]
    }
   ],
   "source": [
    "# A is greater than b\n",
    "a= 67\n",
    "b=56\n",
    "print(a >=b)\n"
   ]
  },
  {
   "cell_type": "code",
   "execution_count": 39,
   "id": "05490657",
   "metadata": {},
   "outputs": [
    {
     "name": "stdout",
     "output_type": "stream",
     "text": [
      "a is great than b\n"
     ]
    }
   ],
   "source": [
    "print(\"a is great than b\")"
   ]
  },
  {
   "cell_type": "code",
   "execution_count": 34,
   "id": "fb9d95b4",
   "metadata": {},
   "outputs": [
    {
     "name": "stdout",
     "output_type": "stream",
     "text": [
      "32: 9\n"
     ]
    }
   ],
   "source": [
    "temp = float(input(\"32: \"))\n"
   ]
  },
  {
   "cell_type": "code",
   "execution_count": 35,
   "id": "e9aee628",
   "metadata": {},
   "outputs": [],
   "source": [
    "celsius = (temp - 32) * 5/9\n"
   ]
  },
  {
   "cell_type": "code",
   "execution_count": 40,
   "id": "1aec9dc2",
   "metadata": {},
   "outputs": [
    {
     "name": "stdout",
     "output_type": "stream",
     "text": [
      "9.0 in Fahrenheit is equal to -12.777777777777779 in Celsius\n"
     ]
    }
   ],
   "source": [
    "print(f\"{temp} in Fahrenheit is equal to {celsius} in Celsius\")"
   ]
  },
  {
   "cell_type": "code",
   "execution_count": null,
   "id": "ef718982",
   "metadata": {},
   "outputs": [],
   "source": []
  }
 ],
 "metadata": {
  "kernelspec": {
   "display_name": "Python 3 (ipykernel)",
   "language": "python",
   "name": "python3"
  },
  "language_info": {
   "codemirror_mode": {
    "name": "ipython",
    "version": 3
   },
   "file_extension": ".py",
   "mimetype": "text/x-python",
   "name": "python",
   "nbconvert_exporter": "python",
   "pygments_lexer": "ipython3",
   "version": "3.9.7"
  }
 },
 "nbformat": 4,
 "nbformat_minor": 5
}
